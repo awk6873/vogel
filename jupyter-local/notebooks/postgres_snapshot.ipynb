{
 "cells": [
  {
   "cell_type": "markdown",
   "metadata": {},
   "source": [
    "# Prepare driver"
   ]
  },
  {
   "cell_type": "code",
   "execution_count": 1,
   "metadata": {},
   "outputs": [
    {
     "name": "stdout",
     "output_type": "stream",
     "text": [
      "--2020-02-06 16:40:34--  https://repo1.maven.org/maven2/org/postgresql/postgresql/42.2.5/postgresql-42.2.5.jar\n",
      "Resolving repo1.maven.org (repo1.maven.org)... 151.101.248.209\n",
      "Connecting to repo1.maven.org (repo1.maven.org)|151.101.248.209|:443... connected.\n",
      "HTTP request sent, awaiting response... 200 OK\n",
      "Length: 825943 (807K) [application/java-archive]\n",
      "Saving to: ‘/home/jovyan/postgresql-42.2.5.jar.1’\n",
      "\n",
      "postgresql-42.2.5.j 100%[===================>] 806.58K  --.-KB/s    in 0.01s   \n",
      "\n",
      "2020-02-06 16:40:34 (64.6 MB/s) - ‘/home/jovyan/postgresql-42.2.5.jar.1’ saved [825943/825943]\n",
      "\n"
     ]
    }
   ],
   "source": [
    "! wget -P /home/jovyan https://repo1.maven.org/maven2/org/postgresql/postgresql/42.2.5/postgresql-42.2.5.jar"
   ]
  },
  {
   "cell_type": "markdown",
   "metadata": {},
   "source": [
    "# Start spark application"
   ]
  },
  {
   "cell_type": "code",
   "execution_count": 2,
   "metadata": {},
   "outputs": [
    {
     "name": "stdout",
     "output_type": "stream",
     "text": [
      "Application started\n"
     ]
    }
   ],
   "source": [
    "import os\n",
    "os.environ['PYSPARK_SUBMIT_ARGS'] = '--driver-class-path /home/jovyan/postgresql-42.2.5.jar --jars /home/jovyan/postgresql-42.2.5.jar pyspark-shell'\n",
    "\n",
    "import pyspark\n",
    "\n",
    "spark = pyspark.sql.SparkSession.builder \\\n",
    "        .master(\"local[1]\") \\\n",
    "        .appName(\"snapshot\") \\\n",
    "        .getOrCreate()\n",
    "\n",
    "print(\"Application started\")"
   ]
  },
  {
   "cell_type": "markdown",
   "metadata": {},
   "source": [
    "# Warm-up spark"
   ]
  },
  {
   "cell_type": "code",
   "execution_count": 3,
   "metadata": {},
   "outputs": [
    {
     "name": "stdout",
     "output_type": "stream",
     "text": [
      "Spark application is ready for work\n"
     ]
    }
   ],
   "source": [
    "spark.sparkContext.range(1000).sum()\n",
    "print(\"Spark application is ready for work\")"
   ]
  },
  {
   "cell_type": "markdown",
   "metadata": {},
   "source": [
    "# Read some PostgreSQL Data"
   ]
  },
  {
   "cell_type": "code",
   "execution_count": 4,
   "metadata": {},
   "outputs": [
    {
     "name": "stdout",
     "output_type": "stream",
     "text": [
      "Customers table\n",
      "+----+----------+---------+--------------------+\n",
      "|  id|first_name|last_name|               email|\n",
      "+----+----------+---------+--------------------+\n",
      "|1001|     Sally|   Thomas|danielburns@gmail...|\n",
      "|1002|    George|   Bailey|jeremiah02@brown.com|\n",
      "|1003|    Edward|   Walker|welchgabriel@mart...|\n",
      "|1004|      Anne|Kretchmar|derrick91@phillip...|\n",
      "|1006|      Mary|    Crane| jamesgill@gmail.com|\n",
      "|1007|       Amy|   Warner|robertsonvalerie@...|\n",
      "|1009|    Jeremy|    Brown|kylerichardson@ho...|\n",
      "|1013|      Todd|    Logan| jeffery76@glenn.biz|\n",
      "|1014|      Mary|  Roberts|kimberly21@yahoo.com|\n",
      "|1018|     Betty|  Padilla|   ray80@hotmail.com|\n",
      "|1019|    Thomas|     Hunt|mallory61@guzman.biz|\n",
      "|1020|      Ryan|    Jones|  fmorales@lynch.biz|\n",
      "|1021|   Anthony|    Clark|costaroberto@hotm...|\n",
      "|1023|  Benjamin|   Thomas|   dcampos@gmail.com|\n",
      "|1026|    Brandy|     Rice|michael37@garcia-...|\n",
      "|1027|   Barbara|  Miranda|nmeza@maxwell-eat...|\n",
      "|1028|     Jacob|    Boyer|   fcombs@turner.com|\n",
      "|1029|   Matthew|   Glover|michael88@acevedo...|\n",
      "|1034|      Kurt|   Harris|stephaniepaul@jac...|\n",
      "|1035|   Shannon|    Allen|gardnercatherine@...|\n",
      "|1036|   Richard|   Butler| doliver@torres.info|\n",
      "|1038|       Jay| Martinez|erinwashington@gm...|\n",
      "|1039|    Joshua|    Riley|melissaaguilar@wh...|\n",
      "|1040|  Jennifer|   Dawson|desiree71@reed-pr...|\n",
      "|1044|      Evan|    Jones|leblancmisty@john...|\n",
      "|1045|  Jermaine|    Davis|   pedro03@yahoo.com|\n",
      "|1048|   Sabrina|    Morse|darius71@perkins.org|\n",
      "|1049|      Jeff|    Cohen|   lvargas@gmail.com|\n",
      "|1050|    Andrew|   Deleon|christybrown@yaho...|\n",
      "|1052|      Chad|  Jimenez|patrickmyers@hotm...|\n",
      "|1053|  Michelle|Zimmerman|kellyfrank@robert...|\n",
      "|1054|      Joel|    Myers|jimenezrobin@hotm...|\n",
      "|1055|     Sarah|   Garcia|  laurie92@gmail.com|\n",
      "|1056|    Angela|    Henry|nicolediaz@hotmai...|\n",
      "|1057|  Nicholas|    Lopez|murrayalexander@b...|\n",
      "|1058|      Eric|Maldonado|  xblack@hotmail.com|\n",
      "|1059|   Rebecca|     Wong|martinmark@gmail.com|\n",
      "|1060|     Laura|  Rosales|andrewmartinez@si...|\n",
      "|1061|    Pamela| Anderson|jennifer74@hotmai...|\n",
      "|1062|     Kelly|   Vargas|tristanlee@yahoo.com|\n",
      "|1063|    Nathan| Anderson|williamvega@mende...|\n",
      "|1064|   Michael|   Miller|  emily68@walker.com|\n",
      "|1065|     Carla|    White|      yrose@rios.com|\n",
      "|1066|    Pamela|    Davis| laura15@hotmail.com|\n",
      "|1069|     Diana|   Nguyen|tracy49@cabrera-v...|\n",
      "|1072|   Patrick|    Smith|  cquinn@hotmail.com|\n",
      "|1073|    Sandra|     Neal|russelldaniel@gma...|\n",
      "|1075|   Timothy|     Lane|brandon32@fox-ril...|\n",
      "|1076|   Patrick|    Lucas|sandrafrancis@and...|\n",
      "|1079|     Debra| Mcdaniel|christinegriffin@...|\n",
      "|1080|   Matthew| Williams|  scaldwell@wade.biz|\n",
      "|1082|    Pamela|  Jackson|mejiaalbert@wilki...|\n",
      "|1083|      Dana|     Chan|johnthompson@gmai...|\n",
      "|1085|    Deanna|    Parks|enguyen@glenn-kin...|\n",
      "|1086|      Gina| Phillips|   brenda02@hill.biz|\n",
      "|1087|   Michael|  Krueger| william54@yahoo.com|\n",
      "|1089|      Sara|    Gomez|colleen71@hotmail...|\n",
      "|1091|    Gloria|  Aguilar|schneiderjennifer...|\n",
      "|1093| Stephanie|   Flores|     uperry@hunt.biz|\n",
      "|1094|      Jill|   Carter|jameslevine@yahoo...|\n",
      "|1096| Christina|   Bowman|travis88@hotmail.com|\n",
      "|1098|      Juan|Dominguez|   ryates@joseph.com|\n",
      "|1099|     Brian|  Jimenez| renee23@hotmail.com|\n",
      "|1100|   Michael|   Patton| brett56@hotmail.com|\n",
      "|1102|    Deanna|       Wu|turneralex@hopkin...|\n",
      "|1103|      John| Guerrero|    lori94@gmail.com|\n",
      "|1105|     Amber|  Serrano|connertabitha@sta...|\n",
      "|1106|     Heidi|   Castro|alisonterrell@hot...|\n",
      "|1107|     Amber|  Whitney|phillipsstephanie...|\n",
      "|1108|     Jason| Thornton|johnathanbrock@ri...|\n",
      "|1111|   Theresa|  Kennedy| tyler39@hotmail.com|\n",
      "|1112| Elizabeth|  Simpson|derrickcoleman@ho...|\n",
      "|1113|     James|    Watts|suzanneedwards@ma...|\n",
      "|1114|   Jessica|   Miller|shannonmichael@ho...|\n",
      "|1115|   Shannon|     Wade| rachelray@yahoo.com|\n",
      "|1117|  Courtney|     Rice|marytucker@hotmai...|\n",
      "|1119|    Sydney|   Morgan|  david63@hester.com|\n",
      "|1120|   Jessica|    Young|garciasean@hotmai...|\n",
      "|1121|   Melissa| Williams| dennis41@ewing.info|\n",
      "|1122| Stephanie|   Chavez| vperez@marshall.com|\n",
      "|1123|    Willie|    Davis| hmartin@hotmail.com|\n",
      "|1124|     Susan| Campbell|    cdavis@gmail.com|\n",
      "|1125|     Karen| Phillips|burkewilliam@tayl...|\n",
      "|1126|   Darrell|   Murphy|  alexis52@boyer.com|\n",
      "|1127| Alexander|   Murray|jeremy30@hotmail.com|\n",
      "|1128|     Tracy|     Cruz|   bcook@hotmail.com|\n",
      "|1129|     Kevin|   Walker|candacestewart@ji...|\n",
      "|1130|      Lisa|    Perez|zjohnson@mitchell...|\n",
      "|1131|   Brandon|  Hopkins|roachdonna@yahoo.com|\n",
      "|1133|     James|    Myers|ogrant@silva-nguy...|\n",
      "|1134|   Patrick|   Foster|jeremiah98@rodrig...|\n",
      "|1136|     Devon|   Abbott|larrycombs@martin...|\n",
      "|1138|      Alan|   Nguyen|amber85@calhoun-m...|\n",
      "|1139|      Brad|    Brady| reedkevin@moody.com|\n",
      "|1140|    Javier|  Daniels|coffeycody@freema...|\n",
      "|1141|  Jennifer|    Ellis|barrondaniel@moss...|\n",
      "|1143|     Megan|  Edwards|danielrussell@cha...|\n",
      "|1144|   Heather|  Johnson|vincent30@william...|\n",
      "|1145|   Tiffany|    Young|james40@anderson.biz|\n",
      "|1146|     Marie|   Jensen|    ykim@hotmail.com|\n",
      "+----+----------+---------+--------------------+\n",
      "only showing top 100 rows\n",
      "\n",
      "Orders table\n",
      "+-----+----------+---------+--------+----------+\n",
      "|   id|order_date|purchaser|quantity|product_id|\n",
      "+-----+----------+---------+--------+----------+\n",
      "|10001|2016-01-16|     1001|       1|       102|\n",
      "|10002|2016-01-17|     1002|       2|       105|\n",
      "|10003|2016-02-19|     1002|       2|       106|\n",
      "|10004|2016-02-21|     1003|       1|       107|\n",
      "+-----+----------+---------+--------+----------+\n",
      "\n",
      "Products table\n",
      "+---+------------------+--------------------+------+\n",
      "| id|              name|         description|weight|\n",
      "+---+------------------+--------------------+------+\n",
      "|101|           scooter|Small 2-wheel sco...|  3.14|\n",
      "|102|       car battery|     12V car battery|   8.1|\n",
      "|103|12-pack drill bits|12-pack of drill ...|   0.8|\n",
      "|104|            hammer|12oz carpenter's ...|  0.75|\n",
      "|105|            hammer|14oz carpenter's ...| 0.875|\n",
      "|106|            hammer|16oz carpenter's ...|   1.0|\n",
      "|107|             rocks|box of assorted r...|   5.3|\n",
      "|108|            jacket|water resistent b...|   0.1|\n",
      "|109|        spare tire|  24 inch spare tire|  22.2|\n",
      "+---+------------------+--------------------+------+\n",
      "\n"
     ]
    }
   ],
   "source": [
    "customers = spark.read.format('jdbc').options(\n",
    "        url = \"jdbc:postgresql://postgres:5432/postgres?user=postgres&password=postgres&currentSchema=inventory\",\n",
    "        database='postgres',\n",
    "        dbtable='customers'\n",
    "    ).load()\n",
    "\n",
    "products = spark.read.format('jdbc').options(\n",
    "        url = \"jdbc:postgresql://postgres:5432/postgres?user=postgres&password=postgres&currentSchema=inventory\",\n",
    "        database='postgres',\n",
    "        dbtable='products'\n",
    "    ).load()\n",
    "\n",
    "orders = spark.read.format('jdbc').options(\n",
    "        url = \"jdbc:postgresql://postgres:5432/postgres?user=postgres&password=postgres&currentSchema=inventory\",\n",
    "        database='postgres',\n",
    "        dbtable='orders'\n",
    "    ).load()\n",
    "\n",
    "customers.registerTempTable(\"customers\")\n",
    "products.registerTempTable(\"products\")\n",
    "orders.registerTempTable(\"orders\")\n",
    "\n",
    "print(\"Customers table\")\n",
    "customers.orderBy('id').show(100)\n",
    "print(\"Orders table\")\n",
    "orders.orderBy('id').show(100)\n",
    "print(\"Products table\")\n",
    "products.orderBy('id').show(100)\n"
   ]
  },
  {
   "cell_type": "markdown",
   "metadata": {},
   "source": [
    "# Read and join the data"
   ]
  },
  {
   "cell_type": "code",
   "execution_count": 14,
   "metadata": {},
   "outputs": [],
   "source": [
    "# please write your query here\n",
    "query = \"\"\"\n",
    "select \n",
    "  c.id, c.first_name, c.last_name, \n",
    "  sum(p.weight) as total_weight,\n",
    "  current_timestamp as load_dttm\n",
    "from customers as c\n",
    "join orders o\n",
    "  on o.purchaser = c.id\n",
    "join products p\n",
    "  on p.id = o.product_id\n",
    "where c.id <= 1005  \n",
    "group by c.id, c.first_name, c.last_name\n",
    "\"\"\"\n",
    "result = spark.sql(query)\n",
    "# result.write.format(\"parquet\").mode('overwrite').save(\"/home/jovyan/weight_report\")"
   ]
  },
  {
   "cell_type": "code",
   "execution_count": 15,
   "metadata": {},
   "outputs": [
    {
     "name": "stdout",
     "output_type": "stream",
     "text": [
      "+----+----------+---------+------------+--------------------+\n",
      "|  id|first_name|last_name|total_weight|           load_dttm|\n",
      "+----+----------+---------+------------+--------------------+\n",
      "|1003|    Edward|   Walker|         5.3|2020-02-06 16:49:...|\n",
      "|1001|     Sally|   Thomas|         8.1|2020-02-06 16:49:...|\n",
      "|1002|    George|   Bailey|       1.875|2020-02-06 16:49:...|\n",
      "+----+----------+---------+------------+--------------------+\n",
      "\n"
     ]
    }
   ],
   "source": [
    "result.show()"
   ]
  },
  {
   "cell_type": "code",
   "execution_count": null,
   "metadata": {},
   "outputs": [],
   "source": []
  }
 ],
 "metadata": {
  "kernelspec": {
   "display_name": "Python 3",
   "language": "python",
   "name": "python3"
  },
  "language_info": {
   "codemirror_mode": {
    "name": "ipython",
    "version": 3
   },
   "file_extension": ".py",
   "mimetype": "text/x-python",
   "name": "python",
   "nbconvert_exporter": "python",
   "pygments_lexer": "ipython3",
   "version": "3.7.3"
  }
 },
 "nbformat": 4,
 "nbformat_minor": 2
}